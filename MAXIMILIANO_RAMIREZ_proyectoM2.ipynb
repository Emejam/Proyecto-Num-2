{
  "nbformat": 4,
  "nbformat_minor": 0,
  "metadata": {
    "colab": {
      "provenance": [],
      "authorship_tag": "ABX9TyMUhLlaMUqhGyZCoDnLHBuF",
      "include_colab_link": true
    },
    "kernelspec": {
      "name": "python3",
      "display_name": "Python 3"
    },
    "language_info": {
      "name": "python"
    }
  },
  "cells": [
    {
      "cell_type": "markdown",
      "metadata": {
        "id": "view-in-github",
        "colab_type": "text"
      },
      "source": [
        "<a href=\"https://colab.research.google.com/github/Emejam/Proyecto-Num-2/blob/main/MAXIMILIANO_RAMIREZ_proyectoM2.ipynb\" target=\"_parent\"><img src=\"https://colab.research.google.com/assets/colab-badge.svg\" alt=\"Open In Colab\"/></a>"
      ]
    },
    {
      "cell_type": "code",
      "execution_count": 2,
      "metadata": {
        "id": "54ci7_DbSYTv"
      },
      "outputs": [],
      "source": [
        "def palabra_long(): #En este primer bloque definimos la funcion palabra_long\n",
        "  print(\"\"\"                 Es necesario introducir los datos que se te solicitan:\n",
        "  \"\"\") #Introducimos al usuario a lo que va a realizar\n",
        "  while True: #Ponemos un condicional de tipo booleano para indicarle al programa la manera deseada de ingresar informacion\n",
        "    palabra_long = input(\"Porfavor introduce una palabra de entre 4 a 8 letras:  \")\n",
        "    if len(palabra_long) > 3 and len(palabra_long) < 9: #Indicamos el mensaje que se imprimira cuando el numero de caracteres sea el correcto\n",
        "      print (f\"¡Felicidades!, el rango de tu palabra {palabra_long} es de {len(palabra_long)} palabras \")\n",
        "      break #Para finalizar el ciclo\n",
        "    elif len(palabra_long) < 4: #Se indican las diferentes posibilidades se la palabra es de menor o mayor caracteres\n",
        "      print (f\"Hacen falta letras, pues {palabra_long} solo posee {len(palabra_long)} palabras. \")\n",
        "    elif len(palabra_long) > 7:\n",
        "      print (f\"Sobrepasaste el numero de letras permitidas, pues {palabra_long} posee {len(palabra_long)} palabras\")\n",
        "\n",
        "\n",
        "\n",
        "\n",
        "\n",
        "\n"
      ]
    },
    {
      "cell_type": "code",
      "source": [
        "palabra_long ()"
      ],
      "metadata": {
        "colab": {
          "base_uri": "https://localhost:8080/"
        },
        "id": "XFK83z5khtou",
        "outputId": "f933cc9c-ba03-4120-9fe1-f361cc89c58c"
      },
      "execution_count": 3,
      "outputs": [
        {
          "output_type": "stream",
          "name": "stdout",
          "text": [
            "                 Es necesario introducir los datos que se te solicitan:\n",
            "  \n",
            "Porfavor introduce una palabra de entre 4 a 8 letras:  ji\n",
            "Hacen falta letras, pues ji solo posee 2 palabras. \n",
            "Porfavor introduce una palabra de entre 4 a 8 letras:  jil\n",
            "Hacen falta letras, pues jil solo posee 3 palabras. \n",
            "Porfavor introduce una palabra de entre 4 a 8 letras:  jili\n",
            "¡Felicidades!, el rango de tu palabra jili es de 4 palabras \n"
          ]
        }
      ]
    },
    {
      "cell_type": "code",
      "source": [
        "def encuentra_cuadrante(): #Definimos la funcion encuentra_cuadrante\n",
        "  print (\"\"\"              ¡Te ayudamos a encontrar en que cuadrante te encuentras!\n",
        "                         no olvides introducir solo caracteres numericos\"\"\") #Le indicamos al usuario un previo de lo que se realizara\n",
        "  while True: #Se inicia la sentencia while true para indicar al programa que solo aceptaremos caracteres numericos, esto con la funcion int\n",
        "    try:\n",
        "      valor_x = int(input(\"Introduce el valor de X: \"))\n",
        "      valor_y = int(input(\"Introduce el valor de Y: \"))\n",
        "      break #Rompemos el ciclo solo si la informacion brindada es de tipo int\n",
        "    except ValueError: #Utilizamos el except por si el usuario ingresa un caracter distinto a valores numericos\n",
        "      print (\"Introduce solo caracteres numericos\")\n",
        "  if valor_x == 0 and valor_y == 0: #Utilizamos el if y elif para identificar las distintas combinaciones sobre los datos ingresados.\n",
        "    print (f\"El valor de X = {valor_x} y el valor de Y = {valor_y} se encuentran en el punto de origen \")\n",
        "  elif valor_x > 0 and valor_y > 0:\n",
        "    print (f\"El valor de X = {valor_x} y el valor de Y = {valor_y} se encuentran en el cuadrante I\")\n",
        "  elif valor_x > 0 and valor_y < 0:\n",
        "    print (f\"El valor de X = {valor_x} y el valor de Y = {valor_y} se encuentran en el cuadrante IV\")\n",
        "  elif valor_x < 0 and valor_y < 0:\n",
        "    print (f\"El valor de X = {valor_x} y el valor de Y = {valor_y} se encuentran en el cuadrante III\")\n",
        "  elif valor_x < 0 and valor_y > 0:\n",
        "    print (f\"El valor de X = {valor_x} y el valor de Y = {valor_y} se encuentran en el cuadrante II\")\n"
      ],
      "metadata": {
        "id": "dV-NCSa0q8Ch"
      },
      "execution_count": 4,
      "outputs": []
    },
    {
      "cell_type": "code",
      "source": [
        "encuentra_cuadrante ()"
      ],
      "metadata": {
        "colab": {
          "base_uri": "https://localhost:8080/"
        },
        "id": "p4Fr565ftOVu",
        "outputId": "ac870bdf-e58a-4048-85df-74795fa3c1bd"
      },
      "execution_count": 5,
      "outputs": [
        {
          "output_type": "stream",
          "name": "stdout",
          "text": [
            "              ¡Te ayudamos a encontrar en que cuadrante te encuentras!\n",
            "                         no olvides introducir solo caracteres numericos\n",
            "Introduce el valor de X: k\n",
            "Introduce solo caracteres numericos\n",
            "Introduce el valor de X: w\n",
            "Introduce solo caracteres numericos\n",
            "Introduce el valor de X: 9\n",
            "Introduce el valor de Y: -5\n",
            "El valor de X = 9 y el valor de Y = -5 se encuentran en el cuadrante IV\n"
          ]
        }
      ]
    }
  ]
}